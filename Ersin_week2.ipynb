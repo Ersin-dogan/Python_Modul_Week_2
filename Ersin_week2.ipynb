# CEVAP - 1 ------------------------------------------------------------------------

ogrenciler = {
    'Ahmet Soyad': {'Ara': 85, 'Final': 90, 'Oral': 80},
    'Mehmet Soyad': {'Ara': 78, 'Final': 82, 'Oral': 74},
    'Hasan Soyad': {'Ara': 90, 'Final': 92, 'Oral': 88},
    'Hüseyin Soyad': {'Ara': 65, 'Final': 70, 'Oral': 60},
    'Ali Soyad': {'Ara': 58, 'Final': 65, 'Oral': 70},
    'Veli Soyad': {'Ara': 82, 'Final': 80, 'Oral': 85},
    'Ayşe Soyad': {'Ara': 95, 'Final': 100, 'Oral': 90},
    'Fatma Soyad': {'Ara': 72, 'Final': 75, 'Oral': 78},
    'Emel Soyad': {'Ara': 69, 'Final': 73, 'Oral': 65},
    'Şükriye Soyad': {'Ara': 88, 'Final': 84, 'Oral': 80}
}

ogrenci_listesi = []

for ogrenci, notlar in ogrenciler.items():
    ara = notlar['Ara']
    final = notlar['Final']
    oral = notlar['Oral']
    ortalama = (ara * 0.4) + (final * 0.4) + (oral * 0.2)
    ortalama = round(ortalama, 2) 
    
    ogrenci_listesi.append({
        'Öğrenci': ogrenci,
        'Ara Sınav': ara,
        'Final': final,
        'Sözlü': oral,
        'Ortalama': ortalama
    })
print(ogrenci_listesi)






# CEVAP - 2 --------------------------------------------------------------------------------

filmler = {}

def film_ekle():
    film_ad = input("Film adı: ")
    yonetmen = input("Yönetmen: ")
    yil = input("Çıkış yılı: ")
    tur = input("Tür: ")
    filmler[film_ad] = {"Yönetmen": yonetmen, "Yıl": yil, "Tür": tur}
    print(f"'{film_ad}' filmi eklendi.")

def film_duzenle():
    film_ad = input("Düzenlenecek film adı: ")
    if film_ad in filmler:
        yonetmen = input("Yeni yönetmen: ")
        yil = input("Yeni çıkış yılı: ")
        tur = input("Yeni tür: ")
        filmler[film_ad] = {"Yönetmen": yonetmen, "Yıl": yil, "Tür": tur}
        print(f"'{film_ad}' filmi güncellendi.")
    else:
        print("Film bulunamadı.")

def film_sil():
    film_ad = input("Silinecek film adı: ")
    if film_ad in filmler:
        del filmler[film_ad]
        print(f"'{film_ad}' filmi silindi.")
    else:
        print("Film bulunamadı.")


def koleksiyon_goruntule():
    kriter = input("Tüm filmleri listelemek mi istiyorsunuz yoksa türe göre mi? (tüm/tür): ").lower()
    if kriter == "tüm":
        for film, bilgiler in filmler.items():
            print(f"{film} - {bilgiler}")
    elif kriter == "tür":
        tur = input("Tür girin: ")
        for film, bilgiler in filmler.items():
            if bilgiler["Tür"] == tur:
                print(f"{film} - {bilgiler}")


def menu():
    while True:
        print("\n1- Film Ekle\n2- Film Düzenle\n3- Film Sil\n4- Koleksiyonu Görüntüle\n5- Çıkış")
        secim = input("Bir seçenek girin: ")
        if secim == "1":
            film_ekle()
        elif secim == "2":
            film_duzenle()
        elif secim == "3":
            film_sil()
        elif secim == "4":
            koleksiyon_goruntule()
        elif secim == "5":
            break
        else:
            print("Geçersiz seçim.")

menu()




# CEVAP - 3 --------------------------------------------------------------------------------

musteriler = {}
def musteri_ekle():
    musteri_id = input("Müşteri ID: ")
    if musteri_id in musteriler:
        print("Bu müşteri ID zaten mevcut.")
        return
    ad = input("Ad: ")
    soyad = input("Soyad: ")
    email = input("Email: ")
    telefon = input("Telefon: ")
    musteriler[musteri_id] = {"Ad": ad, "Soyad": soyad, "Email": email, "Telefon": telefon}
    print(f"{musteri_id} numaralı müşteri eklendi.")

def musteri_guncelle():
    musteri_id = input("Güncellenecek müşteri ID'si: ")
    if musteri_id in musteriler:
        ad = input("Yeni ad: ")
        soyad = input("Yeni soyad: ")
        email = input("Yeni email: ")
        telefon = input("Yeni telefon: ")
        musteriler[musteri_id] = {"Ad": ad, "Soyad": soyad, "Email": email, "Telefon": telefon}
        print(f"{musteri_id} numaralı müşteri güncellendi.")
    else:
        print("Müşteri bulunamadı.")

def musteri_sil():
    musteri_id = input("Silinecek müşteri ID'si: ")
    if musteri_id in musteriler:
        del musteriler[musteri_id]
        print(f"{musteri_id} numaralı müşteri silindi.")
    else:
        print("Müşteri bulunamadı.")


def musteri_listele():
    if musteriler:
        print("\nMevcut müşteriler:")
        for musteri_id, bilgiler in musteriler.items():
            print(f"ID: {musteri_id} - Ad: {bilgiler['Ad']}, Soyad: {bilgiler['Soyad']}, Email: {bilgiler['Email']}, Telefon: {bilgiler['Telefon']}")
    else:
        print("Müşteri listesi boş.")

def menu():
    while True:
        print("\n1- Müşteri Ekle\n2- Müşteri Güncelle\n3- Müşteri Sil\n4- Müşterileri Listele\n5- Çıkış")
        secim = input("Bir seçenek girin: ")
        if secim == "1":
            musteri_ekle()
        elif secim == "2":
            musteri_guncelle()
        elif secim == "3":
            musteri_sil()
        elif secim == "4":
            musteri_listele()
        elif secim == "5":
            print("Çıkış yapılıyor...")
            break
        else:
            print("Geçersiz seçim, lütfen tekrar deneyin.")

menu()

